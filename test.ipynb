{
 "cells": [
  {
   "cell_type": "markdown",
   "metadata": {},
   "source": [
    "# AI prep workbook"
   ]
  },
  {
   "cell_type": "markdown",
   "metadata": {},
   "source": [
    "## Reading in Parquet and CSV files"
   ]
  },
  {
   "cell_type": "code",
   "execution_count": null,
   "metadata": {},
   "outputs": [],
   "source": [
    "import os\n",
    "import pandas as pd\n",
    "from scripts.csvtoparquet import csv_to_parquet_single_file\n",
    "\n",
    "# Example usage\n",
    "current_directory = os.getcwd()\n",
    "csv_file_path = os.path.join(current_directory, 'input', 'train_labels.csv')\n",
    "output_file_path = os.path.join(current_directory, 'input', 'full_labels.parquet')\n",
    "\n",
    "chunksize = 100000  \n",
    "sample_rows = 50000\n",
    "\n",
    "\n",
    "csv_to_parquet_single_file(csv_file_path, output_file_path, chunksize=chunksize, sample_rows=sample_rows)\n",
    "\n"
   ]
  },
  {
   "cell_type": "code",
   "execution_count": null,
   "metadata": {},
   "outputs": [],
   "source": [
    "import os\n",
    "import pandas as pd\n",
    "from scripts.parquetreader import read_parquet_file \n",
    "\n",
    "\n",
    "# Example usage\n",
    "current_directory = os.getcwd()\n",
    "\n",
    "training = os.path.join(current_directory, 'input', 'full_data.parquet')\n",
    "labels = os.path.join(current_directory, 'input', 'full_labels.parquet')\n",
    "\n",
    "dftrain=read_parquet_file(training)\n",
    "dflabels=read_parquet_file(labels)\n",
    "\n"
   ]
  },
  {
   "cell_type": "code",
   "execution_count": null,
   "metadata": {},
   "outputs": [],
   "source": [
    "result_df = pd.merge(dftrain, dflabels[['customer_ID', 'target']], on='customer_ID', how='inner')\n",
    "df_dropped = result_df.drop(columns=['D_134','D_135', 'D_136', 'D_137','D_138','D_142'])\n",
    "df_dropped.drop_duplicates()\n",
    "df_dropped.fillna(0)\n",
    "print(df_dropped.shape[0])\n",
    "\n",
    "current_directory = os.getcwd()\n",
    "output_file_sampledparquet = os.path.join(current_directory, 'input', 'sample_trainingdata.parquet')\n",
    "df_dropped.to_parquet(output_file_sampledparquet)\n"
   ]
  },
  {
   "cell_type": "markdown",
   "metadata": {},
   "source": [
    "# Upload parquet to Blob Storage"
   ]
  },
  {
   "cell_type": "code",
   "execution_count": null,
   "metadata": {},
   "outputs": [],
   "source": [
    "from azure.storage.blob import BlobServiceClient, BlobClient,ContainerClient \n",
    "import os\n",
    "from dotenv import load_dotenv\n",
    "load_dotenv()\n",
    "connection_str = os.getenv('connection_str')\n",
    "\n",
    "\n",
    "# Azure storage account detail\n",
    "container_name = 'trainingdata'\n",
    "\n",
    "# File to upload\n",
    "current_directory = os.getcwd()\n",
    "parquet_file_path = os.path.join(current_directory, 'input', 'sample_trainingdata.parquet')\n",
    "\n",
    "# Create the BlobServiceClient object which will be used to create a container client\n",
    "blob_service_client = BlobServiceClient.from_connection_string(connection_str)\n",
    "\n",
    "# Create the container client\n",
    "container_client = blob_service_client.get_container_client(container_name)\n",
    "\n",
    "# Create a blob client using the local file name as the name for the blob\n",
    "blob_client = blob_service_client.get_blob_client(container=container_name, blob=os.path.basename(parquet_file_path))\n",
    "\n",
    "print(f\"Uploading to Azure Storage as blob:\\n\\t {os.path.basename(parquet_file_path)}\")\n",
    "\n",
    "# Upload the created file\n",
    "with open(parquet_file_path, \"rb\") as data:\n",
    "    blob_client.upload_blob(data, overwrite=True)\n",
    "\n",
    "print(\"Upload completed successfully\")\n"
   ]
  },
  {
   "cell_type": "markdown",
   "metadata": {},
   "source": [
    "# Reading Parquet File"
   ]
  },
  {
   "cell_type": "code",
   "execution_count": null,
   "metadata": {},
   "outputs": [],
   "source": [
    "import pandas as pd\n",
    "from azure.storage.blob import BlobServiceClient\n",
    "from io import BytesIO\n",
    "from dotenv import load_dotenv\n",
    "load_dotenv()\n",
    "connection_str = os.getenv('connection_str')\n",
    "\n",
    "# Initialize a BlobServiceClient\n",
    "blob_service_client = BlobServiceClient.from_connection_string(connection_str)\n",
    "\n",
    "# Specify your container and the name for the file in the container\n",
    "container_name = 'trainingdata'\n",
    "blob_name = 'new_train_data.parquet'\n",
    "\n",
    "def read_parquet_file_from_blob(connection_str, container_name, blob_name):\n",
    "\n",
    "    blob_service_client = BlobServiceClient.from_connection_string(connection_str)\n",
    "    blob_client = blob_service_client.get_blob_client(container=container_name, blob=blob_name)\n",
    "    \n",
    "    stream = BytesIO()\n",
    "    blob_client.download_blob().download_to_stream(stream)\n",
    "    stream.seek(0)  # Go to the start of the stream\n",
    "    df = pd.read_parquet(stream)\n",
    "    \n",
    "    return df\n",
    "\n"
   ]
  },
  {
   "cell_type": "code",
   "execution_count": null,
   "metadata": {},
   "outputs": [],
   "source": [
    "import pandas as pd\n",
    "import os\n",
    "\n",
    "current_directory = os.getcwd()\n",
    "parquet_file_path = os.path.join(current_directory, 'input', 'sample_trainingdata.parquet')\n",
    "\n",
    "\n",
    "# Read the Parquet file\n",
    "dfmodelstep1 = pd.read_parquet(parquet_file_path)\n",
    "\n",
    "# Now you can work with your DataFrame 'df'\n",
    "print(dfmodelstep1.shape[0])"
   ]
  },
  {
   "cell_type": "markdown",
   "metadata": {},
   "source": [
    "## Train/Testsplit"
   ]
  },
  {
   "cell_type": "code",
   "execution_count": null,
   "metadata": {},
   "outputs": [],
   "source": [
    "from sklearn.model_selection import train_test_split\n",
    "\n",
    "# Split the dataset into features and target\n",
    "# Replace 'target_column_name' with the name of your target column\n",
    "X = dfmodelstep1.drop(columns=['target', 'customer_ID'])\n",
    "y = dfmodelstep1['target']\n",
    "\n",
    "# Split the data into training and test sets\n",
    "# test_size=0.2 means 20% of the data will be used for the test set, and 80% for the training set\n",
    "X_train, X_test, y_train, y_test = train_test_split(X, y, test_size=0.2, random_state=42)\n",
    "\n"
   ]
  },
  {
   "cell_type": "code",
   "execution_count": null,
   "metadata": {},
   "outputs": [],
   "source": [
    "import tensorflow as tf\n",
    "from tensorflow.keras import layers, models\n",
    "import matplotlib.pyplot as plt\n",
    "from sklearn.model_selection import train_test_split\n",
    "from sklearn.preprocessing import StandardScaler\n",
    "import numpy as np\n",
    "\n",
    "# Example dataset generation (replace with your actual data)\n",
    "# Let's create a synthetic dataset for demonstration purposes\n",
    "from sklearn.datasets import make_classification\n",
    "X, y = make_classification(n_samples=1000, n_features=20, n_classes=2, random_state=42)\n",
    "\n",
    "# Split the dataset into training and test sets\n",
    "X_train, X_test, y_train, y_test = train_test_split(X, y, test_size=0.2, random_state=42)\n",
    "\n",
    "# Data normalization\n",
    "scaler = StandardScaler()\n",
    "X_train = scaler.fit_transform(X_train)\n",
    "X_test = scaler.transform(X_test)\n",
    "\n",
    "# Define the model\n",
    "model = models.Sequential([\n",
    "    layers.Dense(64, activation='relu', input_shape=(X_train.shape[1],)),\n",
    "    layers.Dropout(0.5),\n",
    "    layers.Dense(32, activation='relu'),\n",
    "    layers.Dropout(0.5),\n",
    "    layers.Dense(1, activation='sigmoid')  # Binary classification output\n",
    "])\n",
    "\n",
    "# Compile the model\n",
    "model.compile(optimizer='adam',\n",
    "              loss='binary_crossentropy',\n",
    "              metrics=['accuracy'])\n",
    "\n",
    "# Train the model\n",
    "history = model.fit(X_train, y_train,\n",
    "                    epochs=10,\n",
    "                    batch_size=32,\n",
    "                    validation_data=(X_test, y_test))\n",
    "\n",
    "# Visualization of training history\n",
    "plt.figure(figsize=(12, 5))\n",
    "\n",
    "plt.subplot(1, 2, 1)\n",
    "plt.plot(history.history['accuracy'], label='Train Accuracy')\n",
    "plt.plot(history.history['val_accuracy'], label='Test Accuracy')\n",
    "plt.title('Model Accuracy')\n",
    "plt.ylabel('Accuracy')\n",
    "plt.xlabel('Epoch')\n",
    "plt.legend()\n",
    "\n",
    "plt.subplot(1, 2, 2)\n",
    "plt.plot(history.history['loss'], label='Train Loss')\n",
    "plt.plot(history.history['val_loss'], label='Test Loss')\n",
    "plt.title('Model Loss')\n",
    "plt.ylabel('Loss')\n",
    "plt.xlabel('Epoch')\n",
    "plt.legend()\n",
    "\n",
    "plt.tight_layout()\n",
    "plt.show()\n"
   ]
  }
 ],
 "metadata": {
  "kernelspec": {
   "display_name": ".venv",
   "language": "python",
   "name": "python3"
  },
  "language_info": {
   "codemirror_mode": {
    "name": "ipython",
    "version": 3
   },
   "file_extension": ".py",
   "mimetype": "text/x-python",
   "name": "python",
   "nbconvert_exporter": "python",
   "pygments_lexer": "ipython3",
   "version": "3.11.2"
  }
 },
 "nbformat": 4,
 "nbformat_minor": 2
}

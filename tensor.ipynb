{
 "cells": [
  {
   "cell_type": "markdown",
   "metadata": {},
   "source": [
    "# Data Prep"
   ]
  },
  {
   "cell_type": "code",
   "execution_count": null,
   "metadata": {},
   "outputs": [],
   "source": [
    "from scripts_tensor.parquetreader import read_parquet_file\n",
    "from scripts_tensor.dataprep import prepare_and_split_data_grouped\n",
    "import os,sys\n",
    "import pandas as pd\n",
    "\n",
    "current_directory = os.getcwd()\n",
    "parquet_file_path = os.path.join(current_directory, 'input', 'sample_trainingdata.parquet')\n",
    "\n",
    "dfmodelstep1=read_parquet_file(parquet_file_path)\n",
    "print(dfmodelstep1.shape[0])\n",
    "\n",
    "# Assuming dfmodelstep1 is your DataFrame, 'target' is your target column\n",
    "savcols=['customer_ID','S_2']\n",
    "Target='target'\n",
    "group='customer_ID'\n",
    "\n",
    "X_train, X_test, X_train_scaled, X_test_scaled, y_train, y_test, identifiers_train, identifiers_test, groups_train, groups_test, feature_names = prepare_and_split_data_grouped(dfmodelstep1, Target, savcols, group)\n"
   ]
  },
  {
   "cell_type": "markdown",
   "metadata": {},
   "source": [
    "# Model Run"
   ]
  },
  {
   "cell_type": "code",
   "execution_count": 17,
   "metadata": {},
   "outputs": [
    {
     "name": "stdout",
     "output_type": "stream",
     "text": [
      "Scale the data\n",
      "Reshape data for the model\n",
      "transformer_layer build\n",
      "Configure callbacks\n",
      "Train the model\n",
      "Epoch 1/5\n",
      "\u001b[1m9044/9044\u001b[0m \u001b[32m━━━━━━━━━━━━━━━━━━━━\u001b[0m\u001b[37m\u001b[0m \u001b[1m13s\u001b[0m 1ms/step - accuracy: 0.8687 - loss: 0.2879 - val_accuracy: 0.8753 - val_loss: 0.2763\n",
      "Epoch 2/5\n",
      "\u001b[1m9044/9044\u001b[0m \u001b[32m━━━━━━━━━━━━━━━━━━━━\u001b[0m\u001b[37m\u001b[0m \u001b[1m9s\u001b[0m 1ms/step - accuracy: 0.8757 - loss: 0.2727 - val_accuracy: 0.8757 - val_loss: 0.2752\n",
      "Epoch 3/5\n",
      "\u001b[1m9044/9044\u001b[0m \u001b[32m━━━━━━━━━━━━━━━━━━━━\u001b[0m\u001b[37m\u001b[0m \u001b[1m9s\u001b[0m 992us/step - accuracy: 0.8765 - loss: 0.2711 - val_accuracy: 0.8755 - val_loss: 0.2753\n",
      "Epoch 4/5\n",
      "\u001b[1m9044/9044\u001b[0m \u001b[32m━━━━━━━━━━━━━━━━━━━━\u001b[0m\u001b[37m\u001b[0m \u001b[1m9s\u001b[0m 954us/step - accuracy: 0.8768 - loss: 0.2705 - val_accuracy: 0.8758 - val_loss: 0.2751\n",
      "Epoch 5/5\n",
      "\u001b[1m9044/9044\u001b[0m \u001b[32m━━━━━━━━━━━━━━━━━━━━\u001b[0m\u001b[37m\u001b[0m \u001b[1m9s\u001b[0m 977us/step - accuracy: 0.8770 - loss: 0.2701 - val_accuracy: 0.8759 - val_loss: 0.2747\n",
      "Evaluate the model\n",
      "\u001b[1m11304/11304\u001b[0m \u001b[32m━━━━━━━━━━━━━━━━━━━━\u001b[0m\u001b[37m\u001b[0m \u001b[1m3s\u001b[0m 259us/step\n",
      "\n",
      "Test Accuracy: 0.8748247862184512\n",
      "Log the confusion matrix\n",
      "Calculate feature importance using logistic regression\n",
      "Log feature importances\n",
      "Model and evaluation metrics completed\n"
     ]
    }
   ],
   "source": [
    "import importlib\n",
    "import scripts_tensor.model_transformer \n",
    "importlib.reload(scripts_tensor.model_transformer)\n",
    "from scripts_tensor.model_transformer import create_model_with_transformer_and_train\n",
    "\n",
    "\n",
    "model, history, test_accuracy, y_test, y_pred, X_train_reshaped, X_test_reshaped = create_model_with_transformer_and_train(\n",
    "    X_train_scaled, y_train, X_test_scaled, y_test)\n"
   ]
  },
  {
   "cell_type": "markdown",
   "metadata": {},
   "source": [
    "# Flash App"
   ]
  },
  {
   "cell_type": "code",
   "execution_count": 18,
   "metadata": {},
   "outputs": [
    {
     "name": "stdout",
     "output_type": "stream",
     "text": [
      "Running on http://localhost:8000\n"
     ]
    },
    {
     "name": "stderr",
     "output_type": "stream",
     "text": [
      "E0321 12:24:25.197554 8677489344 program.py:300] TensorBoard could not bind to port 6006, it was already in use\n",
      "ERROR: TensorBoard could not bind to port 6006, it was already in use\n"
     ]
    }
   ],
   "source": [
    "# In a Jupyter notebook cell\n",
    "%run -m main\n"
   ]
  }
 ],
 "metadata": {
  "kernelspec": {
   "display_name": "new_env",
   "language": "python",
   "name": "python3"
  },
  "language_info": {
   "codemirror_mode": {
    "name": "ipython",
    "version": 3
   },
   "file_extension": ".py",
   "mimetype": "text/x-python",
   "name": "python",
   "nbconvert_exporter": "python",
   "pygments_lexer": "ipython3",
   "version": "3.11.2"
  }
 },
 "nbformat": 4,
 "nbformat_minor": 2
}

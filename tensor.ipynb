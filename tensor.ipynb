{
 "cells": [
  {
   "cell_type": "markdown",
   "metadata": {},
   "source": [
    "# Data Prep"
   ]
  },
  {
   "cell_type": "code",
   "execution_count": 1,
   "metadata": {},
   "outputs": [
    {
     "name": "stdout",
     "output_type": "stream",
     "text": [
      "1808657\n",
      "Separate features, target, and identifiers, ensuring group column is included in identifiers\n"
     ]
    }
   ],
   "source": [
    "from scripts_tensor.parquetreader import read_parquet_file\n",
    "from scripts_tensor.dataprep import prepare_and_split_data_grouped\n",
    "import os,sys\n",
    "import pandas as pd\n",
    "\n",
    "current_directory = os.getcwd()\n",
    "parquet_file_path = os.path.join(current_directory, 'input', 'sample_trainingdata.parquet')\n",
    "\n",
    "dfmodelstep1=read_parquet_file(parquet_file_path)\n",
    "print(dfmodelstep1.shape[0])\n",
    "\n",
    "# Assuming dfmodelstep1 is your DataFrame, 'target' is your target column\n",
    "savcols=['customer_ID','S_2']\n",
    "Target='target'\n",
    "group='customer_ID'\n",
    "\n",
    "X_train, X_test, X_train_scaled, X_test_scaled, y_train, y_test, identifiers_train, identifiers_test, groups_train, groups_test, feature_names = prepare_and_split_data_grouped(dfmodelstep1, Target, savcols, group)\n"
   ]
  },
  {
   "cell_type": "markdown",
   "metadata": {},
   "source": [
    "# Model Run"
   ]
  },
  {
   "cell_type": "code",
   "execution_count": null,
   "metadata": {},
   "outputs": [],
   "source": [
    "import importlib\n",
    "import scripts_tensor.model_transformer \n",
    "importlib.reload(scripts_tensor.model_transformer)\n",
    "from scripts_tensor.model_transformer import create_model_with_transformer_and_train\n",
    "\n",
    "model, history, test_accuracy, y_test, y_pred, X_train_reshaped, X_test_reshaped = create_model_with_transformer_and_train(\n",
    "    X_train, y_train, X_test, y_test,\n",
    "    num_heads=4, key_dim=4, dropout_rate=0.2,\n",
    "    dense_activation='gelu', learning_rate=0.001,\n",
    "    l2_reg_strength=0.01,\n",
    "    batch_size=128, epochs=10, patience=7\n",
    ")"
   ]
  },
  {
   "cell_type": "markdown",
   "metadata": {},
   "source": [
    "# Flask App"
   ]
  },
  {
   "cell_type": "code",
   "execution_count": null,
   "metadata": {},
   "outputs": [],
   "source": [
    "#calling Flask app fromJupyter notebook cell\n",
    "%run -m main"
   ]
  }
 ],
 "metadata": {
  "kernelspec": {
   "display_name": "new_env",
   "language": "python",
   "name": "python3"
  },
  "language_info": {
   "codemirror_mode": {
    "name": "ipython",
    "version": 3
   },
   "file_extension": ".py",
   "mimetype": "text/x-python",
   "name": "python",
   "nbconvert_exporter": "python",
   "pygments_lexer": "ipython3",
   "version": "3.11.2"
  }
 },
 "nbformat": 4,
 "nbformat_minor": 2
}

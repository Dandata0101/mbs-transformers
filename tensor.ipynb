{
 "cells": [
  {
   "cell_type": "markdown",
   "metadata": {},
   "source": [
    "# Data Prep"
   ]
  },
  {
   "cell_type": "code",
   "execution_count": 5,
   "metadata": {},
   "outputs": [
    {
     "name": "stdout",
     "output_type": "stream",
     "text": [
      "1808657\n",
      "Separate features, target, and identifiers\n",
      "Performing simple train-test split\n",
      "Normalizing data (scaling)\n",
      "Transformation complete\n"
     ]
    }
   ],
   "source": [
    "from scripts_tensor.parquetreader import read_parquet_file\n",
    "from scripts_tensor.datprep_simple_split import prepare_and_split_data_simple\n",
    "import os,sys\n",
    "import pandas as pd\n",
    "\n",
    "current_directory = os.getcwd()\n",
    "parquet_file_path = os.path.join(current_directory, 'input', 'sample_trainingdata.parquet')\n",
    "\n",
    "dfmodelstep1=read_parquet_file(parquet_file_path)\n",
    "print(dfmodelstep1.shape[0])\n",
    "\n",
    "# Assuming dfmodelstep1 is your DataFrame, 'target' is your target column\n",
    "savcols=['customer_ID','S_2']\n",
    "Target='target'\n",
    "\n",
    "\n",
    "\n",
    "X_train, X_test, X_train_scaled, X_test_scaled, y_train, y_test, identifiers_train, identifiers_test, feature_names = prepare_and_split_data_simple(dfmodelstep1, Target, savcols)\n",
    "\n"
   ]
  },
  {
   "cell_type": "markdown",
   "metadata": {},
   "source": [
    "# Model Run"
   ]
  },
  {
   "cell_type": "code",
   "execution_count": 9,
   "metadata": {},
   "outputs": [
    {
     "name": "stdout",
     "output_type": "stream",
     "text": [
      "Scale the data\n",
      "Reshape data for the model\n",
      "transformer_layer build\n",
      "Configure callbacks\n",
      "Train the model\n",
      "Epoch 1/25\n",
      "\u001b[1m9044/9044\u001b[0m \u001b[32m━━━━━━━━━━━━━━━━━━━━\u001b[0m\u001b[37m\u001b[0m \u001b[1m20s\u001b[0m 2ms/step - accuracy: 0.8674 - loss: 0.3430 - val_accuracy: 0.8748 - val_loss: 0.2815\n",
      "Epoch 2/25\n",
      "\u001b[1m9044/9044\u001b[0m \u001b[32m━━━━━━━━━━━━━━━━━━━━\u001b[0m\u001b[37m\u001b[0m \u001b[1m15s\u001b[0m 2ms/step - accuracy: 0.8733 - loss: 0.2801 - val_accuracy: 0.8747 - val_loss: 0.2774\n",
      "Epoch 3/25\n",
      "\u001b[1m9044/9044\u001b[0m \u001b[32m━━━━━━━━━━━━━━━━━━━━\u001b[0m\u001b[37m\u001b[0m \u001b[1m18s\u001b[0m 2ms/step - accuracy: 0.8740 - loss: 0.2782 - val_accuracy: 0.8750 - val_loss: 0.2770\n",
      "Epoch 4/25\n",
      "\u001b[1m9044/9044\u001b[0m \u001b[32m━━━━━━━━━━━━━━━━━━━━\u001b[0m\u001b[37m\u001b[0m \u001b[1m15s\u001b[0m 2ms/step - accuracy: 0.8740 - loss: 0.2772 - val_accuracy: 0.8754 - val_loss: 0.2761\n",
      "Epoch 5/25\n",
      "\u001b[1m9044/9044\u001b[0m \u001b[32m━━━━━━━━━━━━━━━━━━━━\u001b[0m\u001b[37m\u001b[0m \u001b[1m14s\u001b[0m 2ms/step - accuracy: 0.8743 - loss: 0.2764 - val_accuracy: 0.8757 - val_loss: 0.2757\n",
      "Epoch 6/25\n",
      "\u001b[1m9044/9044\u001b[0m \u001b[32m━━━━━━━━━━━━━━━━━━━━\u001b[0m\u001b[37m\u001b[0m \u001b[1m20s\u001b[0m 1ms/step - accuracy: 0.8744 - loss: 0.2758 - val_accuracy: 0.8758 - val_loss: 0.2756\n",
      "Epoch 7/25\n",
      "\u001b[1m9044/9044\u001b[0m \u001b[32m━━━━━━━━━━━━━━━━━━━━\u001b[0m\u001b[37m\u001b[0m \u001b[1m13s\u001b[0m 1ms/step - accuracy: 0.8746 - loss: 0.2754 - val_accuracy: 0.8759 - val_loss: 0.2753\n",
      "Epoch 8/25\n",
      "\u001b[1m9044/9044\u001b[0m \u001b[32m━━━━━━━━━━━━━━━━━━━━\u001b[0m\u001b[37m\u001b[0m \u001b[1m13s\u001b[0m 1ms/step - accuracy: 0.8748 - loss: 0.2751 - val_accuracy: 0.8759 - val_loss: 0.2758\n",
      "Epoch 9/25\n",
      "\u001b[1m9044/9044\u001b[0m \u001b[32m━━━━━━━━━━━━━━━━━━━━\u001b[0m\u001b[37m\u001b[0m \u001b[1m13s\u001b[0m 1ms/step - accuracy: 0.8749 - loss: 0.2748 - val_accuracy: 0.8761 - val_loss: 0.2756\n",
      "Epoch 10/25\n",
      "\u001b[1m9044/9044\u001b[0m \u001b[32m━━━━━━━━━━━━━━━━━━━━\u001b[0m\u001b[37m\u001b[0m \u001b[1m13s\u001b[0m 1ms/step - accuracy: 0.8750 - loss: 0.2747 - val_accuracy: 0.8762 - val_loss: 0.2754\n",
      "Epoch 11/25\n",
      "\u001b[1m9044/9044\u001b[0m \u001b[32m━━━━━━━━━━━━━━━━━━━━\u001b[0m\u001b[37m\u001b[0m \u001b[1m13s\u001b[0m 1ms/step - accuracy: 0.8749 - loss: 0.2745 - val_accuracy: 0.8761 - val_loss: 0.2760\n",
      "Epoch 12/25\n",
      "\u001b[1m9044/9044\u001b[0m \u001b[32m━━━━━━━━━━━━━━━━━━━━\u001b[0m\u001b[37m\u001b[0m \u001b[1m13s\u001b[0m 1ms/step - accuracy: 0.8752 - loss: 0.2743 - val_accuracy: 0.8761 - val_loss: 0.2760\n",
      "Epoch 13/25\n",
      "\u001b[1m9044/9044\u001b[0m \u001b[32m━━━━━━━━━━━━━━━━━━━━\u001b[0m\u001b[37m\u001b[0m \u001b[1m13s\u001b[0m 1ms/step - accuracy: 0.8752 - loss: 0.2741 - val_accuracy: 0.8762 - val_loss: 0.2760\n",
      "Epoch 14/25\n",
      "\u001b[1m9044/9044\u001b[0m \u001b[32m━━━━━━━━━━━━━━━━━━━━\u001b[0m\u001b[37m\u001b[0m \u001b[1m13s\u001b[0m 1ms/step - accuracy: 0.8754 - loss: 0.2740 - val_accuracy: 0.8763 - val_loss: 0.2760\n",
      "Evaluate the model\n",
      "\u001b[1m11305/11305\u001b[0m \u001b[32m━━━━━━━━━━━━━━━━━━━━\u001b[0m\u001b[37m\u001b[0m \u001b[1m3s\u001b[0m 273us/step\n",
      "\n",
      "Test Accuracy: 0.8747581082127099\n",
      "Log the confusion matrix\n",
      "Calculate feature importance using logistic regression\n",
      "Log feature importances\n",
      "Model and evaluation metrics completed\n"
     ]
    }
   ],
   "source": [
    "import importlib\n",
    "import scripts_tensor.model_transformer \n",
    "importlib.reload(scripts_tensor.model_transformer)\n",
    "from scripts_tensor.model_transformer import create_model_with_transformer_and_train\n",
    "\n",
    "model, history, test_accuracy, y_test, y_pred, X_train_reshaped, X_test_reshaped = create_model_with_transformer_and_train(\n",
    "    X_train, y_train, X_test, y_test,\n",
    "    num_heads=4, key_dim=4, dropout_rate=0.2,\n",
    "    dense_activation='gelu', learning_rate=0.001,\n",
    "    l2_reg_strength=0.01,\n",
    "    batch_size=128, epochs=25, patience=7\n",
    ")"
   ]
  },
  {
   "cell_type": "markdown",
   "metadata": {},
   "source": [
    "# Flask App"
   ]
  },
  {
   "cell_type": "code",
   "execution_count": 10,
   "metadata": {},
   "outputs": [
    {
     "name": "stderr",
     "output_type": "stream",
     "text": [
      "Python(8547) MallocStackLogging: can't turn off malloc stack logging because it was not enabled.\n"
     ]
    },
    {
     "name": "stdout",
     "output_type": "stream",
     "text": [
      "Running on http://localhost:8000\n"
     ]
    },
    {
     "name": "stderr",
     "output_type": "stream",
     "text": [
      "TensorBoard 2.16.2 at http://dans-macbook-pro.home:6006/ (Press CTRL+C to quit)\n",
      "TensorBoard caught SIGTERM; exiting...\n"
     ]
    }
   ],
   "source": [
    "#calling Flask app fromJupyter notebook cell\n",
    "%run -m main"
   ]
  }
 ],
 "metadata": {
  "kernelspec": {
   "display_name": "new_env",
   "language": "python",
   "name": "python3"
  },
  "language_info": {
   "codemirror_mode": {
    "name": "ipython",
    "version": 3
   },
   "file_extension": ".py",
   "mimetype": "text/x-python",
   "name": "python",
   "nbconvert_exporter": "python",
   "pygments_lexer": "ipython3",
   "version": "3.11.2"
  }
 },
 "nbformat": 4,
 "nbformat_minor": 2
}

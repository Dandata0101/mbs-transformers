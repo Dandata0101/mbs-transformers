{
 "cells": [
  {
   "cell_type": "markdown",
   "metadata": {},
   "source": [
    "# Data Prep"
   ]
  },
  {
   "cell_type": "code",
   "execution_count": null,
   "metadata": {},
   "outputs": [],
   "source": [
    "from scripts.parquetreader import read_parquet_file\n",
    "from scripts.dataprep import prepare_and_split_data_grouped\n",
    "import os,sys\n",
    "import pandas as pd\n",
    "\n",
    "current_directory = os.getcwd()\n",
    "parquet_file_path = os.path.join(current_directory, 'input', 'sample_trainingdata.parquet')\n",
    "\n",
    "dfmodelstep1=read_parquet_file(parquet_file_path)\n",
    "print(dfmodelstep1.shape[0])\n",
    "\n",
    "# Assuming dfmodelstep1 is your DataFrame, 'target' is your target column\n",
    "savcols=['customer_ID','S_2']\n",
    "Target='target'\n",
    "group='customer_ID'\n",
    "\n",
    "X,X_train,X_test,X_train_scaled, X_test_scaled, y_train, y_test, identifiers_train, identifiers_test,feature_names = prepare_and_split_data_grouped(dfmodelstep1, Target,savcols, group)\n"
   ]
  },
  {
   "cell_type": "markdown",
   "metadata": {},
   "source": [
    "# Model Run"
   ]
  },
  {
   "cell_type": "code",
   "execution_count": 12,
   "metadata": {},
   "outputs": [
    {
     "name": "stdout",
     "output_type": "stream",
     "text": [
      "Epoch 1/5\n",
      "\u001b[1m9035/9035\u001b[0m \u001b[32m━━━━━━━━━━━━━━━━━━━━\u001b[0m\u001b[37m\u001b[0m \u001b[1m20s\u001b[0m 2ms/step - accuracy: 0.8669 - loss: 0.2907 - val_accuracy: 0.8747 - val_loss: 0.2762\n",
      "Epoch 2/5\n",
      "\u001b[1m9035/9035\u001b[0m \u001b[32m━━━━━━━━━━━━━━━━━━━━\u001b[0m\u001b[37m\u001b[0m \u001b[1m11s\u001b[0m 1ms/step - accuracy: 0.8747 - loss: 0.2761 - val_accuracy: 0.8750 - val_loss: 0.2728\n",
      "Epoch 3/5\n",
      "\u001b[1m9035/9035\u001b[0m \u001b[32m━━━━━━━━━━━━━━━━━━━━\u001b[0m\u001b[37m\u001b[0m \u001b[1m12s\u001b[0m 1ms/step - accuracy: 0.8748 - loss: 0.2755 - val_accuracy: 0.8752 - val_loss: 0.2710\n",
      "Epoch 4/5\n",
      "\u001b[1m9035/9035\u001b[0m \u001b[32m━━━━━━━━━━━━━━━━━━━━\u001b[0m\u001b[37m\u001b[0m \u001b[1m12s\u001b[0m 1ms/step - accuracy: 0.8752 - loss: 0.2739 - val_accuracy: 0.8763 - val_loss: 0.2715\n",
      "Epoch 5/5\n",
      "\u001b[1m9035/9035\u001b[0m \u001b[32m━━━━━━━━━━━━━━━━━━━━\u001b[0m\u001b[37m\u001b[0m \u001b[1m13s\u001b[0m 1ms/step - accuracy: 0.8758 - loss: 0.2729 - val_accuracy: 0.8763 - val_loss: 0.2711\n",
      "\u001b[1m11310/11310\u001b[0m \u001b[32m━━━━━━━━━━━━━━━━━━━━\u001b[0m\u001b[37m\u001b[0m \u001b[1m3s\u001b[0m 294us/step\n",
      "\n",
      "Test Accuracy: 0.8712990569244075\n"
     ]
    }
   ],
   "source": [
    "import importlib\n",
    "import scripts.model_transformer \n",
    "importlib.reload(scripts.model_transformer)\n",
    "from scripts.model_transformer import create_model_with_transformer_and_train\n",
    "\n",
    "model, history, test_accuracy,y_test, y_pred,X_test_reshaped,X_train_reshaped = create_model_with_transformer_and_train(X_train_scaled,y_train, X_test_scaled, y_test)"
   ]
  },
  {
   "cell_type": "markdown",
   "metadata": {},
   "source": [
    "# Tensorboard"
   ]
  },
  {
   "cell_type": "code",
   "execution_count": 13,
   "metadata": {},
   "outputs": [
    {
     "data": {
      "text/html": [
       "\n",
       "      <iframe id=\"tensorboard-frame-d2e225c493e1bb3d\" width=\"100%\" height=\"800\" frameborder=\"0\">\n",
       "      </iframe>\n",
       "      <script>\n",
       "        (function() {\n",
       "          const frame = document.getElementById(\"tensorboard-frame-d2e225c493e1bb3d\");\n",
       "          const url = new URL(\"/\", window.location);\n",
       "          const port = 6018;\n",
       "          if (port) {\n",
       "            url.port = port;\n",
       "          }\n",
       "          frame.src = url;\n",
       "        })();\n",
       "      </script>\n",
       "    "
      ],
      "text/plain": [
       "<IPython.core.display.HTML object>"
      ]
     },
     "metadata": {},
     "output_type": "display_data"
    },
    {
     "name": "stderr",
     "output_type": "stream",
     "text": [
      "Python(38503) MallocStackLogging: can't turn off malloc stack logging because it was not enabled.\n"
     ]
    }
   ],
   "source": [
    "# Load the TensorBoard notebook extension\n",
    "%load_ext tensorboard\n",
    "\n",
    "# Start TensorBoard within the notebook using the directory where the logs are stored\n",
    "%tensorboard --logdir logs/fit"
   ]
  },
  {
   "cell_type": "markdown",
   "metadata": {},
   "source": [
    "# performance and Confusion Matrix"
   ]
  },
  {
   "cell_type": "code",
   "execution_count": null,
   "metadata": {},
   "outputs": [],
   "source": [
    "import importlib\n",
    "import scripts.charting as charting_module\n",
    "importlib.reload(charting_module)\n",
    "from scripts.charting import plot_model_loss, plot_confusion_matrix, interactive_confusion_matrix\n",
    "\n",
    "plot_model_loss(history.history['loss'], history.history.get('val_loss', None))\n",
    "plot_confusion_matrix(y_test, y_pred)"
   ]
  },
  {
   "cell_type": "markdown",
   "metadata": {},
   "source": [
    "# Top Features"
   ]
  },
  {
   "cell_type": "code",
   "execution_count": null,
   "metadata": {},
   "outputs": [],
   "source": [
    "import importlib\n",
    "import scripts.topfeatures as topfeatures\n",
    "importlib.reload(topfeatures)\n",
    "from scripts.topfeatures import fit_and_plot_logistic_regression\n",
    "\n",
    "from scripts.topfeatures import fit_and_plot_logistic_regression\n",
    "fit_and_plot_logistic_regression(X_train, X_test, y_train, y_test,feature_names,max_iter=1000, top_features=20)\n"
   ]
  }
 ],
 "metadata": {
  "kernelspec": {
   "display_name": "new_env",
   "language": "python",
   "name": "python3"
  },
  "language_info": {
   "codemirror_mode": {
    "name": "ipython",
    "version": 3
   },
   "file_extension": ".py",
   "mimetype": "text/x-python",
   "name": "python",
   "nbconvert_exporter": "python",
   "pygments_lexer": "ipython3",
   "version": "3.11.2"
  }
 },
 "nbformat": 4,
 "nbformat_minor": 2
}
